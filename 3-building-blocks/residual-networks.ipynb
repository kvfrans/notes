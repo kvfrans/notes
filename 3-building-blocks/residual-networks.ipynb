{
 "cells": [
  {
   "cell_type": "code",
   "execution_count": 1,
   "metadata": {
    "tags": [
     "remove-cell"
    ]
   },
   "outputs": [],
   "source": [
    "import jax\n",
    "import jax.numpy as jnp\n",
    "import flax.linen as nn\n",
    "import matplotlib.pyplot as plt\n",
    "import flax\n",
    "from typing import Any\n",
    "import numpy as np\n",
    "import functools\n",
    "from einops import rearrange\n",
    "import tqdm\n",
    "import time"
   ]
  },
  {
   "cell_type": "markdown",
   "metadata": {},
   "source": [
    "# Residual Networks\n",
    "\n",
    "<!-- - Problems with Deep Networks\n",
    "- Residual Connections\n",
    "- U-Net -->"
   ]
  },
  {
   "cell_type": "markdown",
   "metadata": {},
   "source": [
    "Deeper neural networks have the potential to become more powerful. They can perform more computation, and build off more abstract features. However, deeper networks also become harder to train. There are potential issues with **vanishing or exploding gradients**, in which certain badly-behaved layers can corrupt the learning signal for the entire network. A sneakier issue is that of a chicken-and-egg problem -- when later layers have not been properly trained, they will inhibit the earlier layers from learning relevant features.\n",
    "\n",
    "**Residual networks** add an explicit bias towards preserving prior information. In a residual network, we view the prime information flow as the **residual stream**. Each additional layer does not completely rewrite the residual stream, but instead appends new information to it. Thus, by default, information from prior layers is retained into later layers. We often group these operations into **residual blocks**. Residual networks are known to ease optimization, and provide shorter gradient flows between the intermediate features and signal from the loss function.\n",
    "\n",
    "```{image} residual.png\n",
    ":width: 400px\n",
    ":align: center\n",
    "```\n",
    "<br>"
   ]
  },
  {
   "cell_type": "code",
   "execution_count": 2,
   "metadata": {},
   "outputs": [],
   "source": [
    "class MyResidualLayer(nn.Module):\n",
    "    @nn.compact\n",
    "    def __call__(self, x):\n",
    "        # Residual block: Perform some computation. Here we use two dense layers.\n",
    "        y = nn.Dense(features=128)(x)\n",
    "        y = nn.relu(y)\n",
    "        y = nn.Dense(features=128)(y)\n",
    "        return x + y # Add new features to residual stream."
   ]
  },
  {
   "cell_type": "markdown",
   "metadata": {},
   "source": [
    "## Is there a difference between a residual layer and a dense layer with the right parameters?\n",
    "\n",
    "If the input and output spaces of the residual block are the same, then the residual connection is does not create any unique structure. It is possible to achieve the same residual effect by simply utilzing a parameter matrix that has a constant weight along the diagonal, which preserves the input features. However, even in this setting, the residual connection can be a powerful **inductive bias**. Residual layers will by default place a large emphasis on preserving the input, a behavior which otherwise is not present at random initialization."
   ]
  },
  {
   "cell_type": "markdown",
   "metadata": {},
   "source": [
    "## What are numerical benefits of a residual connection?\n",
    "\n",
    "In deep learning, we sometimes worry about network collapse. A common measurement is **rank collapse**, which occurs when a dense layer aligns its parameters such that the outputs become lower rank than the inputs. In a regular dense network, rank collapse cannot be undone -- once the information is lost, later layers cannot recover the information. However, in a residual network, even if a single layer exhibits rank collapse, the residual stream itself will retain its full-rank structure, as the previous features will remain unmodified.\n",
    "\n",
    "Residual layers can also cause better **gradient flow**. In a residual network, gradients are backpropagated through the residual stream. This causes any intermediate layer to have a close-to-direct path to the loss function."
   ]
  },
  {
   "cell_type": "markdown",
   "metadata": {},
   "source": [
    "## Should we normalize along the residual stream?\n",
    "\n",
    "In general, no. Normalization tends to harm the gradient flow and slow down learning. In typical architectures, we will use normalization layers within each residual block, but the main residual stream will be untouched."
   ]
  },
  {
   "cell_type": "markdown",
   "metadata": {},
   "source": [
    "## Example: U-Net Architecture\n",
    "\n",
    "A well-known residual architecture in image generation is the **U-Net**. In image generation, our input and output spaces are both full images. However, we want to progressively downsample these images within the network, as is typically done in convolutional architectures. The downside here is that we lose the high-frequency details present in the original image. The U-Net architecture uses residual connections between each *resolution*, allowing for information to flow back to the original image at various resolutions.\n",
    "\n",
    "![Unet](unet.png)\n",
    "\n",
    "> Source: [Ibtehaz et al.](https://arxiv.org/abs/2104.09864) A typical U-Net. \"Skip connection\" is equivalent to residual connection."
   ]
  },
  {
   "cell_type": "markdown",
   "metadata": {},
   "source": [
    "## Read More\n",
    "\n",
    "Highway Networks. https://arxiv.org/abs/1505.00387\n",
    "\n",
    "Residual Networks for CNNs. https://arxiv.org/pdf/1512.03385\n",
    "\n",
    "Residual Stream view. https://transformer-circuits.pub/2021/framework/index.html\n",
    "\n",
    "U-Net paper. https://lmb.informatik.uni-freiburg.de/people/ronneber/u-net/"
   ]
  }
 ],
 "metadata": {
  "kernelspec": {
   "display_name": "frog",
   "language": "python",
   "name": "python3"
  },
  "language_info": {
   "codemirror_mode": {
    "name": "ipython",
    "version": 3
   },
   "file_extension": ".py",
   "mimetype": "text/x-python",
   "name": "python",
   "nbconvert_exporter": "python",
   "pygments_lexer": "ipython3",
   "version": "3.9.19"
  }
 },
 "nbformat": 4,
 "nbformat_minor": 2
}
